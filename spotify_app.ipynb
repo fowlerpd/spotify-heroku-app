{
 "cells": [
  {
   "cell_type": "code",
   "execution_count": 2,
   "metadata": {
    "collapsed": false,
    "scrolled": true
   },
   "outputs": [
    {
     "name": "stderr",
     "output_type": "stream",
     "text": [
      " * Running on http://127.0.0.1:33507/ (Press CTRL+C to quit)\n",
      "127.0.0.1 - - [29/Oct/2017 15:01:23] \"GET / HTTP/1.1\" 302 -\n",
      "127.0.0.1 - - [29/Oct/2017 15:01:24] \"GET /plot HTTP/1.1\" 200 -\n"
     ]
    }
   ],
   "source": [
    "import requests\n",
    "import pandas as pd\n",
    "from bokeh.plotting import figure,show\n",
    "from bokeh.palettes import Spectral11\n",
    "from bokeh.embed import components\n",
    "from bokeh.layouts import row, column,gridplot\n",
    "from bokeh.models import ColumnDataSource, HoverTool, Legend\n",
    "from flask import Flask,render_template,request,redirect,session\n",
    "\n",
    "\n",
    "app = Flask(__name__)\n",
    "\n",
    "tools = \"pan,wheel_zoom,reset,hover,save\"\n",
    "url = 'https://raw.githubusercontent.com/fowlerpd/spotify-heroku-app/master/genres_by_year.csv'\n",
    "df = pd.read_csv(url)\n",
    "#df = pd.read_csv('genres_by_year.csv')\n",
    "#app.vars={}\n",
    "\n",
    "@app.route('/')\n",
    "def main():\n",
    "    return redirect('/plot')\n",
    "\n",
    "\n",
    "@app.route('/plot')\n",
    "def render_plot():\n",
    "    source = ColumnDataSource(df)\n",
    "\n",
    "    i = 0\n",
    "    p = figure(title='Popular Spotify Tracks in 2017 by Genre and Release Year', plot_width = 800, plot_height = 600, tools = tools,\n",
    "            x_axis_label=' Track Release Year',y_axis_label = 'Number of Tracks')#x_axis_type='datetime')\n",
    "    for col in df.columns[1:]:\n",
    "        p.line(x='release_year', y=col, source= source, legend = col, line_width=2,line_color=Spectral11[i])\n",
    "        i+=1\n",
    "        \n",
    "    p.legend.orientation = \"horizontal\"\n",
    "    hover = p.select_one(HoverTool)\n",
    "    hover.tooltips = [('Release Year','$x{int}'),(\"Number of Tracks\", \"$y{0.2f}\")]\n",
    "    script, div = components(p)\n",
    "    return render_template('plot.html', script=script, div=div)\n",
    "\n",
    "    \n",
    "if __name__ == '__main__':\n",
    "    app.run(port=33507)"
   ]
  },
  {
   "cell_type": "code",
   "execution_count": null,
   "metadata": {
    "collapsed": true
   },
   "outputs": [],
   "source": []
  }
 ],
 "metadata": {
  "anaconda-cloud": {},
  "kernelspec": {
   "display_name": "Python [conda env:py27]",
   "language": "python",
   "name": "conda-env-py27-py"
  },
  "language_info": {
   "codemirror_mode": {
    "name": "ipython",
    "version": 2
   },
   "file_extension": ".py",
   "mimetype": "text/x-python",
   "name": "python",
   "nbconvert_exporter": "python",
   "pygments_lexer": "ipython2",
   "version": "2.7.12"
  }
 },
 "nbformat": 4,
 "nbformat_minor": 1
}
